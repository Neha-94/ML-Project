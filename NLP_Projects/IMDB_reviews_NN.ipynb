{
  "nbformat": 4,
  "nbformat_minor": 0,
  "metadata": {
    "colab": {
      "name": "IMDB reviews.ipynb",
      "provenance": [],
      "collapsed_sections": []
    },
    "kernelspec": {
      "name": "python3",
      "display_name": "Python 3"
    }
  },
  "cells": [
    {
      "cell_type": "markdown",
      "metadata": {
        "id": "XWyKVRwku5UG",
        "colab_type": "text"
      },
      "source": [
        "##1.Imports"
      ]
    },
    {
      "cell_type": "code",
      "metadata": {
        "id": "rm5gFe9Du6K3",
        "colab_type": "code",
        "outputId": "98242c47-d91a-4533-a245-4c2840c9c220",
        "colab": {
          "base_uri": "https://localhost:8080/",
          "height": 51
        }
      },
      "source": [
        "import numpy as np, pandas as pd\n",
        "import matplotlib.pyplot as plt\n",
        "\n",
        "import re\n",
        "import nltk\n",
        "nltk.download('stopwords')\n",
        "from nltk.corpus import stopwords\n",
        "from nltk.stem.porter import PorterStemmer\n",
        "\n",
        "from sklearn.feature_extraction.text import CountVectorizer\n",
        "from sklearn.model_selection import train_test_split\n",
        "from sklearn.metrics import confusion_matrix\n",
        "from sklearn.metrics import classification_report\n",
        "\n",
        "from sklearn.naive_bayes import GaussianNB"
      ],
      "execution_count": 0,
      "outputs": [
        {
          "output_type": "stream",
          "text": [
            "[nltk_data] Downloading package stopwords to /root/nltk_data...\n",
            "[nltk_data]   Unzipping corpora/stopwords.zip.\n"
          ],
          "name": "stdout"
        }
      ]
    },
    {
      "cell_type": "markdown",
      "metadata": {
        "id": "-w-NJ-HQiqF-",
        "colab_type": "text"
      },
      "source": [
        "## 2.Load Data"
      ]
    },
    {
      "cell_type": "code",
      "metadata": {
        "id": "kODkfIc0_CSv",
        "colab_type": "code",
        "outputId": "13427024-9732-435a-e69a-00864a3e4f54",
        "colab": {
          "base_uri": "https://localhost:8080/",
          "height": 309
        }
      },
      "source": [
        "from google.colab import drive\n",
        "drive.mount('/content/drive')\n",
        "dataset=pd.read_csv(\"/content/drive/My Drive/Colab Notebooks/NLP/IMDB Dataset.csv\")\n",
        "dataset.head()"
      ],
      "execution_count": 0,
      "outputs": [
        {
          "output_type": "stream",
          "text": [
            "Go to this URL in a browser: https://accounts.google.com/o/oauth2/auth?client_id=947318989803-6bn6qk8qdgf4n4g3pfee6491hc0brc4i.apps.googleusercontent.com&redirect_uri=urn%3aietf%3awg%3aoauth%3a2.0%3aoob&response_type=code&scope=email%20https%3a%2f%2fwww.googleapis.com%2fauth%2fdocs.test%20https%3a%2f%2fwww.googleapis.com%2fauth%2fdrive%20https%3a%2f%2fwww.googleapis.com%2fauth%2fdrive.photos.readonly%20https%3a%2f%2fwww.googleapis.com%2fauth%2fpeopleapi.readonly\n",
            "\n",
            "Enter your authorization code:\n",
            "··········\n",
            "Mounted at /content/drive\n"
          ],
          "name": "stdout"
        },
        {
          "output_type": "execute_result",
          "data": {
            "text/html": [
              "<div>\n",
              "<style scoped>\n",
              "    .dataframe tbody tr th:only-of-type {\n",
              "        vertical-align: middle;\n",
              "    }\n",
              "\n",
              "    .dataframe tbody tr th {\n",
              "        vertical-align: top;\n",
              "    }\n",
              "\n",
              "    .dataframe thead th {\n",
              "        text-align: right;\n",
              "    }\n",
              "</style>\n",
              "<table border=\"1\" class=\"dataframe\">\n",
              "  <thead>\n",
              "    <tr style=\"text-align: right;\">\n",
              "      <th></th>\n",
              "      <th>review</th>\n",
              "      <th>sentiment</th>\n",
              "    </tr>\n",
              "  </thead>\n",
              "  <tbody>\n",
              "    <tr>\n",
              "      <th>0</th>\n",
              "      <td>One of the other reviewers has mentioned that ...</td>\n",
              "      <td>positive</td>\n",
              "    </tr>\n",
              "    <tr>\n",
              "      <th>1</th>\n",
              "      <td>A wonderful little production. &lt;br /&gt;&lt;br /&gt;The...</td>\n",
              "      <td>positive</td>\n",
              "    </tr>\n",
              "    <tr>\n",
              "      <th>2</th>\n",
              "      <td>I thought this was a wonderful way to spend ti...</td>\n",
              "      <td>positive</td>\n",
              "    </tr>\n",
              "    <tr>\n",
              "      <th>3</th>\n",
              "      <td>Basically there's a family where a little boy ...</td>\n",
              "      <td>negative</td>\n",
              "    </tr>\n",
              "    <tr>\n",
              "      <th>4</th>\n",
              "      <td>Petter Mattei's \"Love in the Time of Money\" is...</td>\n",
              "      <td>positive</td>\n",
              "    </tr>\n",
              "  </tbody>\n",
              "</table>\n",
              "</div>"
            ],
            "text/plain": [
              "                                              review sentiment\n",
              "0  One of the other reviewers has mentioned that ...  positive\n",
              "1  A wonderful little production. <br /><br />The...  positive\n",
              "2  I thought this was a wonderful way to spend ti...  positive\n",
              "3  Basically there's a family where a little boy ...  negative\n",
              "4  Petter Mattei's \"Love in the Time of Money\" is...  positive"
            ]
          },
          "metadata": {
            "tags": []
          },
          "execution_count": 2
        }
      ]
    },
    {
      "cell_type": "markdown",
      "metadata": {
        "id": "-ro_xgIli2ky",
        "colab_type": "text"
      },
      "source": [
        "## 3.Data cleaning"
      ]
    },
    {
      "cell_type": "code",
      "metadata": {
        "id": "djszB_h2GIhv",
        "colab_type": "code",
        "colab": {}
      },
      "source": [
        "def rem_stopwords(row_val):\n",
        "  corpus=[]\n",
        "  cleaned=(re.sub(\"[^a-zA-Z]\",' ',row_val))\n",
        "  cleaned=cleaned.lower()\n",
        "  cleaned_list=cleaned.split()\n",
        "  ps=PorterStemmer()\n",
        "  imp_words=[ps.stem(word) for word in cleaned_list if word not in set(stopwords.words('english'))]\n",
        "  imp_words = \" \".join(imp_words)\n",
        "  corpus.append(imp_words)\n",
        "  return corpus"
      ],
      "execution_count": 0,
      "outputs": []
    },
    {
      "cell_type": "code",
      "metadata": {
        "id": "Lr8WNeN88LOk",
        "colab_type": "code",
        "colab": {}
      },
      "source": [
        "dataset['imp_words']=dataset['review'].apply(rem_stopwords)\n",
        "corpus=[]\n",
        "for i in dataset['imp_words']:\n",
        "  corpus.append(i[0])"
      ],
      "execution_count": 0,
      "outputs": []
    },
    {
      "cell_type": "markdown",
      "metadata": {
        "id": "R5dd-LkgFonM",
        "colab_type": "text"
      },
      "source": [
        "## 4. Bag of Word Model"
      ]
    },
    {
      "cell_type": "code",
      "metadata": {
        "id": "Smi7tHbcnUKL",
        "colab_type": "code",
        "outputId": "d2a38976-5401-4d09-ecf5-54cafe208305",
        "colab": {
          "base_uri": "https://localhost:8080/",
          "height": 68
        }
      },
      "source": [
        "# We have a prefectly balanced dataset\n",
        "dataset.iloc[:, 1].value_counts()"
      ],
      "execution_count": 0,
      "outputs": [
        {
          "output_type": "execute_result",
          "data": {
            "text/plain": [
              "negative    10\n",
              "positive    10\n",
              "Name: sentiment, dtype: int64"
            ]
          },
          "metadata": {
            "tags": []
          },
          "execution_count": 14
        }
      ]
    },
    {
      "cell_type": "code",
      "metadata": {
        "id": "Bkse6DWqO-fZ",
        "colab_type": "code",
        "colab": {}
      },
      "source": [
        "from sklearn import preprocessing\n",
        "from sklearn.preprocessing import LabelEncoder\n",
        "le = preprocessing.LabelEncoder()\n",
        "dataset['sentiment'] = le.fit_transform(dataset.sentiment.values)"
      ],
      "execution_count": 0,
      "outputs": []
    },
    {
      "cell_type": "code",
      "metadata": {
        "id": "gS041o2v7rhH",
        "colab_type": "code",
        "colab": {}
      },
      "source": [
        "cv = CountVectorizer(max_features = 1500)\n",
        "X = cv.fit_transform(corpus).toarray()\n",
        "y = dataset.iloc[:, 1].values"
      ],
      "execution_count": 0,
      "outputs": []
    },
    {
      "cell_type": "markdown",
      "metadata": {
        "id": "TLrFD8z5FtX1",
        "colab_type": "text"
      },
      "source": [
        "## 5. Predicitve Models"
      ]
    },
    {
      "cell_type": "markdown",
      "metadata": {
        "id": "EtmaqJp7GXgG",
        "colab_type": "text"
      },
      "source": [
        "a. Train-Test Split"
      ]
    },
    {
      "cell_type": "code",
      "metadata": {
        "id": "PqS6B7uJG0GZ",
        "colab_type": "code",
        "colab": {}
      },
      "source": [
        "X_train, X_test, y_train, y_test = train_test_split(X, y, test_size = 0.2, random_state = 0)"
      ],
      "execution_count": 0,
      "outputs": []
    },
    {
      "cell_type": "markdown",
      "metadata": {
        "id": "dwyDOIc9Gq9l",
        "colab_type": "text"
      },
      "source": [
        "b. Naive Bayes Classifer"
      ]
    },
    {
      "cell_type": "code",
      "metadata": {
        "id": "c000FOuZojba",
        "colab_type": "code",
        "outputId": "d76264dd-0e8c-4699-cafc-6cc873c16382",
        "colab": {
          "base_uri": "https://localhost:8080/",
          "height": 170
        }
      },
      "source": [
        "classifier = GaussianNB()\n",
        "classifier.fit(X_train, y_train)\n",
        "#Predicting\n",
        "y_pred = classifier.predict(X_test)\n",
        "cm = confusion_matrix(y_test, y_pred)\n",
        "print(classification_report(y_test,y_pred))"
      ],
      "execution_count": 0,
      "outputs": [
        {
          "output_type": "stream",
          "text": [
            "              precision    recall  f1-score   support\n",
            "\n",
            "    negative       0.72      0.85      0.78      5035\n",
            "    positive       0.82      0.67      0.74      4965\n",
            "\n",
            "    accuracy                           0.76     10000\n",
            "   macro avg       0.77      0.76      0.76     10000\n",
            "weighted avg       0.77      0.76      0.76     10000\n",
            "\n"
          ],
          "name": "stdout"
        }
      ]
    },
    {
      "cell_type": "markdown",
      "metadata": {
        "id": "noWfR5SI6tF9",
        "colab_type": "text"
      },
      "source": [
        "c. Logistic Regression"
      ]
    },
    {
      "cell_type": "code",
      "metadata": {
        "id": "YGDCnc8K6WQT",
        "colab_type": "code",
        "outputId": "4a81ae34-99d9-4c2e-b5ea-8ea11357b433",
        "colab": {
          "base_uri": "https://localhost:8080/",
          "height": 306
        }
      },
      "source": [
        "from sklearn.linear_model import LogisticRegression\n",
        "logreg = LogisticRegression()\n",
        "logreg.fit(X_train,y_train)\n",
        "y_pred=logreg.predict(X_test)\n",
        "print(classification_report(y_test,y_pred))"
      ],
      "execution_count": 0,
      "outputs": [
        {
          "output_type": "stream",
          "text": [
            "/usr/local/lib/python3.6/dist-packages/sklearn/linear_model/_logistic.py:940: ConvergenceWarning: lbfgs failed to converge (status=1):\n",
            "STOP: TOTAL NO. of ITERATIONS REACHED LIMIT.\n",
            "\n",
            "Increase the number of iterations (max_iter) or scale the data as shown in:\n",
            "    https://scikit-learn.org/stable/modules/preprocessing.html\n",
            "Please also refer to the documentation for alternative solver options:\n",
            "    https://scikit-learn.org/stable/modules/linear_model.html#logistic-regression\n",
            "  extra_warning_msg=_LOGISTIC_SOLVER_CONVERGENCE_MSG)\n"
          ],
          "name": "stderr"
        },
        {
          "output_type": "stream",
          "text": [
            "              precision    recall  f1-score   support\n",
            "\n",
            "    negative       0.88      0.87      0.87      5035\n",
            "    positive       0.87      0.88      0.87      4965\n",
            "\n",
            "    accuracy                           0.87     10000\n",
            "   macro avg       0.87      0.87      0.87     10000\n",
            "weighted avg       0.87      0.87      0.87     10000\n",
            "\n"
          ],
          "name": "stdout"
        }
      ]
    },
    {
      "cell_type": "markdown",
      "metadata": {
        "id": "BP4ovIV67G4y",
        "colab_type": "text"
      },
      "source": [
        "d. Random Forest"
      ]
    },
    {
      "cell_type": "code",
      "metadata": {
        "id": "-S-2L7qW7ay3",
        "colab_type": "code",
        "outputId": "040cc5c5-5125-40f7-807b-22c23ed5cb97",
        "colab": {
          "base_uri": "https://localhost:8080/",
          "height": 170
        }
      },
      "source": [
        "from sklearn.ensemble import RandomForestClassifier\n",
        "model=RandomForestClassifier()\n",
        "model=model.fit(X_train,y_train)\n",
        "y_pred=model.predict(X_test)\n",
        "print(classification_report(y_test,y_pred))"
      ],
      "execution_count": 0,
      "outputs": [
        {
          "output_type": "stream",
          "text": [
            "              precision    recall  f1-score   support\n",
            "\n",
            "    negative       0.83      0.84      0.84      5035\n",
            "    positive       0.84      0.83      0.83      4965\n",
            "\n",
            "    accuracy                           0.83     10000\n",
            "   macro avg       0.83      0.83      0.83     10000\n",
            "weighted avg       0.83      0.83      0.83     10000\n",
            "\n"
          ],
          "name": "stdout"
        }
      ]
    },
    {
      "cell_type": "code",
      "metadata": {
        "id": "U33DDM4cH9TJ",
        "colab_type": "code",
        "outputId": "3cd4ea0d-e180-4894-9e0e-f791ab0ca552",
        "colab": {
          "base_uri": "https://localhost:8080/",
          "height": 51
        }
      },
      "source": [
        "text = \"The food quality is very very bad had order some soup it was so terrible could eat more than a spoonful. They need to change the chef at the earliest.\"\n",
        "corpus2 = []\n",
        "review2 = re.sub(\"[^a-zA-z]\", ' ', text)\n",
        "review2 = review2.lower()\n",
        "review2 = review2.split()\n",
        "ps2 = PorterStemmer()\n",
        "review2 = [ps2.stem(word) for word in review2 if not word in set(stopwords.words('english'))]\n",
        "review2 = \" \".join(review2)\n",
        "corpus2.append(review2)\n",
        "cv2 = CountVectorizer(max_features = 1500)\n",
        "X2 = cv2.fit_transform(corpus + corpus2).toarray()\n",
        "my = X2[-1].reshape(1, -1)\n",
        "#result = classifier.predict(my)\n",
        "result = model.predict(my)\n",
        "if result == 1:\n",
        "    answer = \"Positive\"\n",
        "else:\n",
        "    answer = \"Negative\"\n",
        "    \n",
        "print(answer)\n",
        "print(result)"
      ],
      "execution_count": 0,
      "outputs": [
        {
          "output_type": "stream",
          "text": [
            "Negative\n",
            "['negative']\n"
          ],
          "name": "stdout"
        }
      ]
    },
    {
      "cell_type": "code",
      "metadata": {
        "id": "nxqXU6ZieK2V",
        "colab_type": "code",
        "outputId": "30953f00-f0ab-4d25-ccc7-373c7b97b208",
        "colab": {
          "base_uri": "https://localhost:8080/",
          "height": 34
        }
      },
      "source": [
        "from keras.datasets import imdb\n",
        "from keras.models import Sequential\n",
        "from keras.layers import Dense\n",
        "from keras.layers import Flatten\n",
        "from keras.layers.embeddings import Embedding\n",
        "from keras.preprocessing import sequence"
      ],
      "execution_count": 0,
      "outputs": [
        {
          "output_type": "stream",
          "text": [
            "Using TensorFlow backend.\n"
          ],
          "name": "stderr"
        }
      ]
    },
    {
      "cell_type": "code",
      "metadata": {
        "id": "wUv6-sFoNG_5",
        "colab_type": "code",
        "outputId": "fbb65f29-bfbc-4f4e-a75f-018b76fa7c2f",
        "colab": {
          "base_uri": "https://localhost:8080/",
          "height": 34
        }
      },
      "source": [
        "X_train.shape"
      ],
      "execution_count": 0,
      "outputs": [
        {
          "output_type": "execute_result",
          "data": {
            "text/plain": [
              "(40000, 1500)"
            ]
          },
          "metadata": {
            "tags": []
          },
          "execution_count": 9
        }
      ]
    },
    {
      "cell_type": "code",
      "metadata": {
        "id": "S5thVqvoK0ap",
        "colab_type": "code",
        "outputId": "7be318a9-4399-4deb-d394-70eaa60311bf",
        "colab": {
          "base_uri": "https://localhost:8080/",
          "height": 306
        }
      },
      "source": [
        "# create the model\n",
        "model = Sequential()\n",
        "model.add(Embedding(5000, 32, input_length=X_train.shape[1]))\n",
        "model.add(Flatten())\n",
        "model.add(Dense(250, activation='relu'))\n",
        "model.add(Dense(1, activation='sigmoid'))\n",
        "model.compile(loss='binary_crossentropy', optimizer='adam', metrics=['accuracy'])\n",
        "print(model.summary())"
      ],
      "execution_count": 0,
      "outputs": [
        {
          "output_type": "stream",
          "text": [
            "Model: \"sequential_1\"\n",
            "_________________________________________________________________\n",
            "Layer (type)                 Output Shape              Param #   \n",
            "=================================================================\n",
            "embedding_1 (Embedding)      (None, 1500, 32)          160000    \n",
            "_________________________________________________________________\n",
            "flatten_1 (Flatten)          (None, 48000)             0         \n",
            "_________________________________________________________________\n",
            "dense_1 (Dense)              (None, 250)               12000250  \n",
            "_________________________________________________________________\n",
            "dense_2 (Dense)              (None, 1)                 251       \n",
            "=================================================================\n",
            "Total params: 12,160,501\n",
            "Trainable params: 12,160,501\n",
            "Non-trainable params: 0\n",
            "_________________________________________________________________\n",
            "None\n"
          ],
          "name": "stdout"
        }
      ]
    },
    {
      "cell_type": "code",
      "metadata": {
        "id": "GAI1In7oMFfC",
        "colab_type": "code",
        "outputId": "20e3ea32-6c40-4a73-e989-8d33582d2aca",
        "colab": {
          "base_uri": "https://localhost:8080/",
          "height": 119
        }
      },
      "source": [
        "# Fit the model\n",
        "model.fit(X_train, y_train, validation_data=(X_test, y_test), epochs=5, batch_size=128, verbose=2)\n",
        "# Final evaluation of the model\n",
        "scores = model.evaluate(X_test, y_test, verbose=0)\n",
        "print(\"Accuracy: %.2f%%\" % (scores[1]*100))"
      ],
      "execution_count": 0,
      "outputs": [
        {
          "output_type": "stream",
          "text": [
            "Train on 40000 samples, validate on 10000 samples\n",
            "Epoch 1/5\n",
            " - 108s - loss: 0.2669 - accuracy: 0.8869 - val_loss: 0.3031 - val_accuracy: 0.8740\n",
            "Epoch 2/5\n",
            " - 107s - loss: 0.2425 - accuracy: 0.8967 - val_loss: 0.3107 - val_accuracy: 0.8689\n",
            "Epoch 3/5\n"
          ],
          "name": "stdout"
        }
      ]
    },
    {
      "cell_type": "code",
      "metadata": {
        "id": "ztVtghHLMK_k",
        "colab_type": "code",
        "colab": {}
      },
      "source": [
        ""
      ],
      "execution_count": 0,
      "outputs": []
    }
  ]
}